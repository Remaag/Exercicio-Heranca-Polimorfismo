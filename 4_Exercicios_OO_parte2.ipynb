{
  "cells": [
    {
      "cell_type": "markdown",
      "metadata": {
        "id": "CXof86h3x2Gx"
      },
      "source": [
        "# Exercícios : Orientação a Objetos no Python - Parte 2"
      ]
    },
    {
      "cell_type": "markdown",
      "metadata": {
        "id": "s4mG0KoFx2G1"
      },
      "source": [
        "### Exercício 1: Herança\n",
        "\n",
        "Crie uma classe chamada ProfissionalSaude com um método trabalhar() que imprime \"Profissional de saúde em ação\".\n",
        "\n",
        "Em seguida, crie uma classe Medico que herda de ProfissionalSaude e sobrescreva o método trabalhar() para que imprima \"Médico realizando cirurgia\".\n",
        "\n",
        "Em seguida, crie uma classe Enfermeiro que também herda de ProfissionalSaude e sobrescreva o método trabalhar() para que imprima \"Enfermeiro aplicando injeção\".\n",
        "\n",
        "Teste todas as classes."
      ]
    },
    {
      "cell_type": "code",
      "execution_count": 8,
      "metadata": {
        "id": "Pk1_MuKIx2G2"
      },
      "outputs": [
        {
          "name": "stdout",
          "output_type": "stream",
          "text": [
            "Profissional de saúde em ação.\n",
            "Médico realizando cirurgia.\n",
            "Enfermeiro aplicando injeção.\n"
          ]
        }
      ],
      "source": [
        "# Criando classe principal\n",
        "class ProfissionalSaude:\n",
        "    def trabalhar(self):\n",
        "        print('Profissional de saúde em ação.')\n",
        "\n",
        "\n",
        "# Criando classes que irão herdar o método trabalhar da classe principal\n",
        "# Classe médico\n",
        "class Medico(ProfissionalSaude):\n",
        "    def trabalhar(self):\n",
        "        print('Médico realizando cirurgia.')\n",
        "\n",
        "# Classe médico\n",
        "class Enfermeiro(ProfissionalSaude):\n",
        "    def trabalhar(self):\n",
        "        print('Enfermeiro aplicando injeção.')\n",
        "\n",
        "\n",
        "# Chamando os metodos da classe principal e herdeiras\n",
        "InstPSaude = ProfissionalSaude()\n",
        "InstPSaude.trabalhar()\n",
        "\n",
        "instMedico = Medico()\n",
        "instMedico.trabalhar()\n",
        "\n",
        "instEnfermeiro = Enfermeiro()\n",
        "instEnfermeiro.trabalhar()\n",
        "\n",
        "\n",
        "\n",
        "\n",
        "\n",
        "# Finalizado"
      ]
    },
    {
      "cell_type": "markdown",
      "metadata": {
        "id": "nmGNe_FHx2G2"
      },
      "source": [
        "### Exercício 2:\n",
        "\n",
        "Crie uma classe chamada Veiculo com um método mover() que imprime \"Veículo em movimento\".\n",
        "\n",
        "Em seguida, crie uma classe Carro que herda de Veiculo e sobrescreva o método mover() para que imprima \"Carro andando\".\n",
        "\n",
        "Em seguida, crie outra classe Aviao que herda de Veiculo e sobrescreva o método mover() para que imprima \"Aviao voando\".\n",
        "\n",
        "Teste todas as classes."
      ]
    },
    {
      "cell_type": "code",
      "execution_count": 9,
      "metadata": {
        "id": "v4magUQOx2G2"
      },
      "outputs": [
        {
          "name": "stdout",
          "output_type": "stream",
          "text": [
            "Veículo em movimento.\n",
            "Carro andando.\n",
            "Avião voando.\n"
          ]
        }
      ],
      "source": [
        "class Veiculo:\n",
        "    def mover(self):\n",
        "        print('Veículo em movimento.')\n",
        "\n",
        "class Carro(Veiculo):\n",
        "    def mover(self):\n",
        "        print('Carro andando.')\n",
        "\n",
        "class Aviao(Veiculo):\n",
        "    def mover(self):\n",
        "        print('Avião voando.')\n",
        "\n",
        "# Chamando todos os metodos criados\n",
        "instVeiculo = Veiculo()\n",
        "instVeiculo.mover()\n",
        "\n",
        "instCarro = Carro()\n",
        "instCarro.mover()\n",
        "\n",
        "instAviao = Aviao()\n",
        "instAviao.mover()\n",
        "\n",
        "\n",
        "\n",
        "\n",
        "\n",
        "# Finalizado"
      ]
    },
    {
      "cell_type": "markdown",
      "metadata": {
        "id": "mORBC6R9x2G2"
      },
      "source": [
        "### Exercício 3: Polimorfismo de Classe\n",
        "Crie uma classe base chamada Forma com um método area() que retorna 0.\n",
        "\n",
        "Em seguida, crie três classes: Quadrado, Circulo e Retangulo, cada uma herdando de Forma.\n",
        "Implemente o método area() em cada uma dessas classes para calcular a área do quadrado, do círculo e do retângulo, respectivamente.\n",
        "\n",
        "Teste as três classes para calcular e imprimir a área de um quadrado com lado 5, de um círculo com raio 3 e de um retângulo com base 4 e altura 6."
      ]
    },
    {
      "cell_type": "code",
      "execution_count": 1,
      "metadata": {
        "id": "9Cx153rLx2G3"
      },
      "outputs": [
        {
          "name": "stdout",
          "output_type": "stream",
          "text": [
            "Área do quadrado: 25\n",
            "Área do círculo: 28.26\n",
            "Área do retângulo: 24\n"
          ]
        }
      ],
      "source": [
        "# Classe para criar molde inicial\n",
        "class Forma:\n",
        "    def area(self):\n",
        "        return()\n",
        "\n",
        "\n",
        "# CLasse Quadrado que herda e faz polimorfismo para calcular área\n",
        "class Quadrado(Forma):\n",
        "    def __init__(self, lado):\n",
        "        self.lado = lado\n",
        "\n",
        "# Função que retorna o calculo \n",
        "    def area(self):\n",
        "        return self.lado ** 2\n",
        "\n",
        "\n",
        "# CLasse Circulo que herda e faz polimorfismo para calcular área\n",
        "class Circulo(Forma):\n",
        "    def __init__(self, raio):\n",
        "        self.raio = raio\n",
        "\n",
        "# Função que retorna o calculo \n",
        "    def area(self):\n",
        "        return 3.14 *self.raio ** 2\n",
        "\n",
        "\n",
        "# CLasse Retangulo que herda e faz polimorfismo para calcular área  \n",
        "class Retangulo(Forma):\n",
        "    def __init__(self, base, altura):\n",
        "        self.base = base\n",
        "        self.altura = altura\n",
        "\n",
        "# Função que retorna o calculo \n",
        "    def area(self):\n",
        "        return self.base * self.altura\n",
        "\n",
        "\n",
        "# Dando valor as classes\n",
        "quadrado = Quadrado(5)\n",
        "circulo = Circulo(3)\n",
        "retangulo = Retangulo(4, 6)\n",
        "\n",
        "\n",
        "# Printando os valores retornados \n",
        "print(f\"Área do quadrado: {quadrado.area()}\")\n",
        "print(f\"Área do círculo: {circulo.area()}\")\n",
        "print(f\"Área do retângulo: {retangulo.area()}\")\n",
        "   \n",
        "    \n",
        "\n",
        "\n",
        "\n",
        "# Finalizado"
      ]
    },
    {
      "cell_type": "markdown",
      "metadata": {
        "id": "HsEjKqC3d1Hl"
      },
      "source": [
        "## Exercício 4: Polimorfismo de Interface\n",
        "Imagine que você está desenvolvendo um software para controle de produção em uma fábrica.\n",
        "\n",
        "Você precisa criar uma interface chamada Maquina que contenha um método executar() para simular o funcionamento de diferentes máquinas industriais.\n",
        "\n",
        "Em seguida, crie duas classes: Furadeira e Esteira, ambas implementando a interface Maquina. A classe Furadeira deve ter um método executar() que simula o funcionamento de uma furadeira, enquanto a classe Esteira deve ter um método executar() que simula o transporte de itens em uma esteira.\n",
        "\n",
        "Finalmente, crie uma função producao que recebe uma lista de objetos do tipo Maquina e chama o método executar() para cada objeto na lista."
      ]
    },
    {
      "cell_type": "code",
      "execution_count": 3,
      "metadata": {
        "id": "4ZwtjwkRd_hk"
      },
      "outputs": [
        {
          "name": "stdout",
          "output_type": "stream",
          "text": [
            "Furadeira em funcionamento.\n",
            "Esteira em funcionamento.\n",
            "Furadeira em funcionamento.\n",
            "Esteira em funcionamento.\n"
          ]
        }
      ],
      "source": [
        "# Lista vazia\n",
        "listaMaquina = []\n",
        "\n",
        "# Definindo a classe Maquina\n",
        "class Maquina:\n",
        "    def executar(self):\n",
        "        pass # Declaração de intrução nula (recurso ainda n implementado)\n",
        "\n",
        "\n",
        "# Classe Furadeira que implementa a interface da Maquina\n",
        "class Furadeira(Maquina):\n",
        "    def executar(self):\n",
        "        print('Furadeira em funcionamento.')\n",
        "\n",
        "\n",
        "# Class Esteira que implementa a interface da Maquina\n",
        "class Esteira(Maquina):\n",
        "    def executar(self):\n",
        "        print('Esteira em funcionamento.')\n",
        "\n",
        "\n",
        "# Função que recebe lista de objetos do tipo Maquina\n",
        "def pruducao(listaMaquina):\n",
        "    for iMaquina in listaMaquina:\n",
        "        iMaquina.executar()\n",
        "\n",
        "\n",
        "# Criando instancias das funções para serem adicionadas na lista_maquinas\n",
        "furadeira1 = Furadeira()\n",
        "esteira1 = Esteira()\n",
        "furadeira2 = Furadeira()\n",
        "esteira2 = Esteira()\n",
        "\n",
        "# Adicionando as instancias na lista\n",
        "listaMaquina = [furadeira1, esteira1, furadeira2, esteira2]\n",
        "\n",
        "\n",
        "# Printando a lista de maquinas\n",
        "pruducao(listaMaquina)\n",
        "\n",
        "\n",
        "\n",
        "\n",
        "\n",
        "# Finalizado "
      ]
    }
  ],
  "metadata": {
    "colab": {
      "provenance": []
    },
    "kernelspec": {
      "display_name": "Python 3",
      "language": "python",
      "name": "python3"
    },
    "language_info": {
      "codemirror_mode": {
        "name": "ipython",
        "version": 3
      },
      "file_extension": ".py",
      "mimetype": "text/x-python",
      "name": "python",
      "nbconvert_exporter": "python",
      "pygments_lexer": "ipython3",
      "version": "3.11.8"
    }
  },
  "nbformat": 4,
  "nbformat_minor": 0
}
